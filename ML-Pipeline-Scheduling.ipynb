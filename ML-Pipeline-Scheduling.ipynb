{
  "cells": [
    {
      "cell_type": "code",
      "source": [
        "from azureml.core import Workspace, Datastore\n",
        "from azureml.pipeline.core import Pipeline, PublishedPipeline\n",
        "from azureml.core.experiment import Experiment\n",
        "from azureml.pipeline.core.schedule import ScheduleRecurrence, Schedule"
      ],
      "outputs": [],
      "execution_count": 1,
      "metadata": {
        "gather": {
          "logged": 1630942339599
        }
      }
    },
    {
      "cell_type": "code",
      "source": [
        "ws = Workspace.from_config()\n",
        "experiment = Experiment(ws,'AutoML-Retraining-Code-Trigger')\n",
        "published_pipeline = PublishedPipeline.get(workspace=ws, id='8f552da3-5807-4aa9-a6fe-e5ac48caaed6')\n",
        "pipeline_run = experiment.submit(published_pipeline)"
      ],
      "outputs": [
        {
          "output_type": "stream",
          "name": "stdout",
          "text": "Submitted PipelineRun a6b31ded-4415-46e8-b1a2-c122b95dbc2e\nLink to Azure Machine Learning Portal: https://ml.azure.com/runs/a6b31ded-4415-46e8-b1a2-c122b95dbc2e?wsid=/subscriptions/80b2bae0-9f97-4190-a0d1-f57c078442d8/resourcegroups/work/workspaces/mlws-final&tid=7e0f938c-e769-4fbe-8532-f5f38dace694\n"
        }
      ],
      "execution_count": 2,
      "metadata": {
        "gather": {
          "logged": 1630942343688
        }
      }
    },
    {
      "cell_type": "code",
      "source": [
        "recurrence = ScheduleRecurrence(frequency=\"Day\", interval=1)"
      ],
      "outputs": [],
      "execution_count": 3,
      "metadata": {
        "gather": {
          "logged": 1630942343786
        }
      }
    },
    {
      "cell_type": "code",
      "source": [
        "schedule = Schedule.create(ws, name=\"IrisTrainingSchedule\", \n",
        "                            description=\"AutoML Training\",\n",
        "                            pipeline_id='a6b31ded-4415-46e8-b1a2-c122b95dbc2e', \n",
        "                            experiment_name='Iris-Retraining', \n",
        "                            recurrence=recurrence)"
      ],
      "outputs": [
        {
          "output_type": "error",
          "ename": "ErrorResponseException",
          "evalue": "(NotFound) Response status code does not indicate success: 404 (Not Found).\nFailed to get item from collection: Pipeline, id: a6b31ded-4415-46e8-b1a2-c122b95dbc2e, partition ef2de2a7-cd82-4b1a-bfef-80df92d72cf5, error code NotFound",
          "traceback": [
            "\u001b[0;31m---------------------------------------------------------------------------\u001b[0m",
            "\u001b[0;31mErrorResponseException\u001b[0m                    Traceback (most recent call last)",
            "\u001b[0;32m<ipython-input-5-6d6f0896f0d3>\u001b[0m in \u001b[0;36m<module>\u001b[0;34m\u001b[0m\n\u001b[1;32m      3\u001b[0m                             \u001b[0mpipeline_id\u001b[0m\u001b[0;34m=\u001b[0m\u001b[0;34m'a6b31ded-4415-46e8-b1a2-c122b95dbc2e'\u001b[0m\u001b[0;34m,\u001b[0m\u001b[0;34m\u001b[0m\u001b[0;34m\u001b[0m\u001b[0m\n\u001b[1;32m      4\u001b[0m                             \u001b[0mexperiment_name\u001b[0m\u001b[0;34m=\u001b[0m\u001b[0;34m'Iris-Retraining'\u001b[0m\u001b[0;34m,\u001b[0m\u001b[0;34m\u001b[0m\u001b[0;34m\u001b[0m\u001b[0m\n\u001b[0;32m----> 5\u001b[0;31m                             recurrence=recurrence)\n\u001b[0m",
            "\u001b[0;32m/anaconda/envs/azureml_py36/lib/python3.6/site-packages/azureml/pipeline/core/schedule.py\u001b[0m in \u001b[0;36mcreate\u001b[0;34m(workspace, name, pipeline_id, experiment_name, recurrence, description, pipeline_parameters, wait_for_provisioning, wait_timeout, datastore, polling_interval, data_path_parameter_name, continue_on_step_failure, path_on_datastore, _workflow_provider, _service_endpoint)\u001b[0m\n\u001b[1;32m    389\u001b[0m                                                      \u001b[0mpipeline_parameters\u001b[0m\u001b[0;34m=\u001b[0m\u001b[0mpipeline_parameters\u001b[0m\u001b[0;34m,\u001b[0m\u001b[0;34m\u001b[0m\u001b[0;34m\u001b[0m\u001b[0m\n\u001b[1;32m    390\u001b[0m                                                      \u001b[0mcontinue_on_step_failure\u001b[0m\u001b[0;34m=\u001b[0m\u001b[0mcontinue_on_step_failure\u001b[0m\u001b[0;34m,\u001b[0m\u001b[0;34m\u001b[0m\u001b[0;34m\u001b[0m\u001b[0m\n\u001b[0;32m--> 391\u001b[0;31m                                                      path_on_datastore=path_on_datastore)\n\u001b[0m\u001b[1;32m    392\u001b[0m \u001b[0;34m\u001b[0m\u001b[0m\n\u001b[1;32m    393\u001b[0m         \u001b[0;32mif\u001b[0m \u001b[0mwait_for_provisioning\u001b[0m\u001b[0;34m:\u001b[0m\u001b[0;34m\u001b[0m\u001b[0;34m\u001b[0m\u001b[0m\n",
            "\u001b[0;32m/anaconda/envs/azureml_py36/lib/python3.6/site-packages/azureml/pipeline/core/_aeva_provider.py\u001b[0m in \u001b[0;36mcreate_schedule\u001b[0;34m(self, name, experiment_name, published_pipeline_id, published_endpoint_id, recurrence, datastore_name, polling_interval, data_path_parameter_name, description, pipeline_parameters, continue_on_step_failure, path_on_datastore)\u001b[0m\n\u001b[1;32m   1796\u001b[0m                                                       data_store_trigger_info=data_store_trigger_info)\n\u001b[1;32m   1797\u001b[0m \u001b[0;34m\u001b[0m\u001b[0m\n\u001b[0;32m-> 1798\u001b[0;31m         \u001b[0mschedule_entity\u001b[0m \u001b[0;34m=\u001b[0m \u001b[0mself\u001b[0m\u001b[0;34m.\u001b[0m\u001b[0m_service_caller\u001b[0m\u001b[0;34m.\u001b[0m\u001b[0mcreate_schedule_async\u001b[0m\u001b[0;34m(\u001b[0m\u001b[0mschedule_creation_info\u001b[0m\u001b[0;34m)\u001b[0m\u001b[0;34m\u001b[0m\u001b[0;34m\u001b[0m\u001b[0m\n\u001b[0m\u001b[1;32m   1799\u001b[0m         \u001b[0;32mif\u001b[0m \u001b[0mschedule_entity\u001b[0m\u001b[0;34m.\u001b[0m\u001b[0mprovisioning_status\u001b[0m \u001b[0;34m==\u001b[0m \u001b[0;34m'2'\u001b[0m\u001b[0;34m:\u001b[0m\u001b[0;34m\u001b[0m\u001b[0;34m\u001b[0m\u001b[0m\n\u001b[1;32m   1800\u001b[0m             raise SystemError(\"Provisioning of schedule\", schedule_entity.id,\n",
            "\u001b[0;32m/anaconda/envs/azureml_py36/lib/python3.6/site-packages/azureml/pipeline/core/_restclients/aeva/service_caller.py\u001b[0m in \u001b[0;36mcreate_schedule_async\u001b[0;34m(self, schedule_creation_info)\u001b[0m\n\u001b[1;32m    604\u001b[0m             \u001b[0msubscription_id\u001b[0m\u001b[0;34m=\u001b[0m\u001b[0mself\u001b[0m\u001b[0;34m.\u001b[0m\u001b[0m_subscription_id\u001b[0m\u001b[0;34m,\u001b[0m \u001b[0mresource_group_name\u001b[0m\u001b[0;34m=\u001b[0m\u001b[0mself\u001b[0m\u001b[0;34m.\u001b[0m\u001b[0m_resource_group_name\u001b[0m\u001b[0;34m,\u001b[0m\u001b[0;34m\u001b[0m\u001b[0;34m\u001b[0m\u001b[0m\n\u001b[1;32m    605\u001b[0m             \u001b[0mworkspace_name\u001b[0m\u001b[0;34m=\u001b[0m\u001b[0mself\u001b[0m\u001b[0;34m.\u001b[0m\u001b[0m_workspace_name\u001b[0m\u001b[0;34m,\u001b[0m \u001b[0mcustom_headers\u001b[0m\u001b[0;34m=\u001b[0m\u001b[0mself\u001b[0m\u001b[0;34m.\u001b[0m\u001b[0m_get_custom_headers\u001b[0m\u001b[0;34m(\u001b[0m\u001b[0;34m)\u001b[0m\u001b[0;34m,\u001b[0m\u001b[0;34m\u001b[0m\u001b[0;34m\u001b[0m\u001b[0m\n\u001b[0;32m--> 606\u001b[0;31m             schedule_creation_info=schedule_creation_info)\n\u001b[0m\u001b[1;32m    607\u001b[0m \u001b[0;34m\u001b[0m\u001b[0m\n\u001b[1;32m    608\u001b[0m         \u001b[0;32mreturn\u001b[0m \u001b[0mresult\u001b[0m\u001b[0;34m\u001b[0m\u001b[0;34m\u001b[0m\u001b[0m\n",
            "\u001b[0;32m/anaconda/envs/azureml_py36/lib/python3.6/site-packages/azureml/pipeline/core/_restclients/aeva/aml_pipelines_api10.py\u001b[0m in \u001b[0;36mapi_v10_subscriptions_by_subscription_id_resource_groups_by_resource_group_name_providers_microsoft_machine_learning_services_workspaces_by_workspace_name_schedules_create_post\u001b[0;34m(self, subscription_id, resource_group_name, workspace_name, schedule_creation_info, custom_headers, raw, **operation_config)\u001b[0m\n\u001b[1;32m   4058\u001b[0m \u001b[0;34m\u001b[0m\u001b[0m\n\u001b[1;32m   4059\u001b[0m         \u001b[0;32mif\u001b[0m \u001b[0mresponse\u001b[0m\u001b[0;34m.\u001b[0m\u001b[0mstatus_code\u001b[0m \u001b[0;32mnot\u001b[0m \u001b[0;32min\u001b[0m \u001b[0;34m[\u001b[0m\u001b[0;36m200\u001b[0m\u001b[0;34m]\u001b[0m\u001b[0;34m:\u001b[0m\u001b[0;34m\u001b[0m\u001b[0;34m\u001b[0m\u001b[0m\n\u001b[0;32m-> 4060\u001b[0;31m             \u001b[0;32mraise\u001b[0m \u001b[0mErrorResponseException\u001b[0m\u001b[0;34m(\u001b[0m\u001b[0mself\u001b[0m\u001b[0;34m.\u001b[0m\u001b[0m_deserialize\u001b[0m\u001b[0;34m,\u001b[0m \u001b[0mresponse\u001b[0m\u001b[0;34m)\u001b[0m\u001b[0;34m\u001b[0m\u001b[0;34m\u001b[0m\u001b[0m\n\u001b[0m\u001b[1;32m   4061\u001b[0m \u001b[0;34m\u001b[0m\u001b[0m\n\u001b[1;32m   4062\u001b[0m         \u001b[0mdeserialized\u001b[0m \u001b[0;34m=\u001b[0m \u001b[0;32mNone\u001b[0m\u001b[0;34m\u001b[0m\u001b[0;34m\u001b[0m\u001b[0m\n",
            "\u001b[0;31mErrorResponseException\u001b[0m: (NotFound) Response status code does not indicate success: 404 (Not Found).\nFailed to get item from collection: Pipeline, id: a6b31ded-4415-46e8-b1a2-c122b95dbc2e, partition ef2de2a7-cd82-4b1a-bfef-80df92d72cf5, error code NotFound"
          ]
        }
      ],
      "execution_count": 5,
      "metadata": {}
    }
  ],
  "metadata": {
    "kernelspec": {
      "display_name": "Python 3.6 - AzureML",
      "language": "python",
      "name": "python3-azureml"
    },
    "language_info": {
      "name": "python",
      "version": "3.6.9",
      "mimetype": "text/x-python",
      "codemirror_mode": {
        "name": "ipython",
        "version": 3
      },
      "pygments_lexer": "ipython3",
      "nbconvert_exporter": "python",
      "file_extension": ".py"
    },
    "nteract": {
      "version": "nteract-front-end@1.0.0"
    }
  },
  "nbformat": 4,
  "nbformat_minor": 4
}